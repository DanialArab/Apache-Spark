{
 "cells": [
  {
   "cell_type": "code",
   "execution_count": 1,
   "id": "82476c6b",
   "metadata": {},
   "outputs": [],
   "source": [
    "import findspark\n",
    "findspark.init('/home/danial/spark-3.3.2-bin-hadoop3')"
   ]
  },
  {
   "cell_type": "code",
   "execution_count": 2,
   "id": "3bd6f1ea",
   "metadata": {},
   "outputs": [],
   "source": [
    "from pyspark.sql import SparkSession"
   ]
  },
  {
   "cell_type": "code",
   "execution_count": 3,
   "id": "e9905f82",
   "metadata": {},
   "outputs": [],
   "source": [
    "from pyspark.ml import Pipeline\n",
    "from pyspark.ml.classification import (RandomForestClassifier,\n",
    "                                       GBTClassifier,\n",
    "                                       DecisionTreeClassifier)"
   ]
  },
  {
   "cell_type": "code",
   "execution_count": 6,
   "id": "83a64034",
   "metadata": {},
   "outputs": [],
   "source": [
    "spark = SparkSession.builder.appName('trees').getOrCreate()"
   ]
  },
  {
   "cell_type": "code",
   "execution_count": 7,
   "id": "6e8f0c5d",
   "metadata": {},
   "outputs": [],
   "source": [
    "path = '/home/danial/Desktop/myspark/Apache-Spark/Python-and-Spark-for-Big-Data-master/Spark_for_Machine_Learning/Tree_Methods/'"
   ]
  },
  {
   "cell_type": "code",
   "execution_count": 8,
   "id": "f0501e0e",
   "metadata": {
    "scrolled": false
   },
   "outputs": [
    {
     "name": "stdout",
     "output_type": "stream",
     "text": [
      "23/04/10 14:33:41 WARN LibSVMFileFormat: 'numFeatures' option not specified, determining the number of features by going though the input. If you know the number in advance, please specify it via 'numFeatures' option to avoid the extra scan.\n"
     ]
    }
   ],
   "source": [
    "data = spark.read.format('libsvm').load(path + 'sample_libsvm_data.txt')"
   ]
  },
  {
   "cell_type": "code",
   "execution_count": 9,
   "id": "0a995321",
   "metadata": {},
   "outputs": [
    {
     "name": "stdout",
     "output_type": "stream",
     "text": [
      "root\n",
      " |-- label: double (nullable = true)\n",
      " |-- features: vector (nullable = true)\n",
      "\n"
     ]
    }
   ],
   "source": [
    "data.printSchema()"
   ]
  },
  {
   "cell_type": "code",
   "execution_count": 10,
   "id": "89fba1ee",
   "metadata": {},
   "outputs": [
    {
     "name": "stdout",
     "output_type": "stream",
     "text": [
      "+-----+--------------------+\n",
      "|label|            features|\n",
      "+-----+--------------------+\n",
      "|  0.0|(692,[127,128,129...|\n",
      "|  1.0|(692,[158,159,160...|\n",
      "|  1.0|(692,[124,125,126...|\n",
      "|  1.0|(692,[152,153,154...|\n",
      "|  1.0|(692,[151,152,153...|\n",
      "|  0.0|(692,[129,130,131...|\n",
      "|  1.0|(692,[158,159,160...|\n",
      "|  1.0|(692,[99,100,101,...|\n",
      "|  0.0|(692,[154,155,156...|\n",
      "|  0.0|(692,[127,128,129...|\n",
      "|  1.0|(692,[154,155,156...|\n",
      "|  0.0|(692,[153,154,155...|\n",
      "|  0.0|(692,[151,152,153...|\n",
      "|  1.0|(692,[129,130,131...|\n",
      "|  0.0|(692,[154,155,156...|\n",
      "|  1.0|(692,[150,151,152...|\n",
      "|  0.0|(692,[124,125,126...|\n",
      "|  0.0|(692,[152,153,154...|\n",
      "|  1.0|(692,[97,98,99,12...|\n",
      "|  1.0|(692,[124,125,126...|\n",
      "+-----+--------------------+\n",
      "only showing top 20 rows\n",
      "\n"
     ]
    }
   ],
   "source": [
    "data.show()"
   ]
  },
  {
   "cell_type": "code",
   "execution_count": 11,
   "id": "30a857f8",
   "metadata": {},
   "outputs": [],
   "source": [
    "train_data, test_data = data.randomSplit([0.7, 0.3])"
   ]
  },
  {
   "cell_type": "code",
   "execution_count": 12,
   "id": "20bbc550",
   "metadata": {},
   "outputs": [
    {
     "name": "stdout",
     "output_type": "stream",
     "text": [
      "+-------+------------------+\n",
      "|summary|             label|\n",
      "+-------+------------------+\n",
      "|  count|                77|\n",
      "|   mean|0.5454545454545454|\n",
      "| stddev|0.5011947448335864|\n",
      "|    min|               0.0|\n",
      "|    max|               1.0|\n",
      "+-------+------------------+\n",
      "\n"
     ]
    }
   ],
   "source": [
    "train_data.describe().show()"
   ]
  },
  {
   "cell_type": "code",
   "execution_count": 15,
   "id": "93bb42d6",
   "metadata": {},
   "outputs": [
    {
     "name": "stdout",
     "output_type": "stream",
     "text": [
      "+-------+-------------------+\n",
      "|summary|              label|\n",
      "+-------+-------------------+\n",
      "|  count|                 23|\n",
      "|   mean| 0.6521739130434783|\n",
      "| stddev|0.48698475355767396|\n",
      "|    min|                0.0|\n",
      "|    max|                1.0|\n",
      "+-------+-------------------+\n",
      "\n"
     ]
    }
   ],
   "source": [
    "test_data.describe().show()"
   ]
  },
  {
   "cell_type": "code",
   "execution_count": 16,
   "id": "2a96cb6e",
   "metadata": {},
   "outputs": [
    {
     "data": {
      "text/plain": [
       "100"
      ]
     },
     "execution_count": 16,
     "metadata": {},
     "output_type": "execute_result"
    }
   ],
   "source": [
    "data.count()"
   ]
  },
  {
   "cell_type": "code",
   "execution_count": 18,
   "id": "10611c6e",
   "metadata": {},
   "outputs": [],
   "source": [
    "dtc = DecisionTreeClassifier()\n",
    "rfc = RandomForestClassifier(numTrees=100)\n",
    "gbt = GBTClassifier()"
   ]
  },
  {
   "cell_type": "code",
   "execution_count": 19,
   "id": "c4b94adf",
   "metadata": {},
   "outputs": [
    {
     "name": "stderr",
     "output_type": "stream",
     "text": [
      "                                                                                \r"
     ]
    }
   ],
   "source": [
    "dtc_model = dtc.fit(train_data)\n",
    "rfc_model = rfc.fit(train_data)\n",
    "gbt_model = gbt.fit(train_data)"
   ]
  },
  {
   "cell_type": "code",
   "execution_count": 21,
   "id": "2c55fa6f",
   "metadata": {},
   "outputs": [],
   "source": [
    "dtc_preds = dtc_model.transform(test_data)\n",
    "rfc_preds = rfc_model.transform(test_data)\n",
    "gbt_preds = gbt_model.transform(test_data)"
   ]
  },
  {
   "cell_type": "code",
   "execution_count": 22,
   "id": "dba58674",
   "metadata": {},
   "outputs": [
    {
     "name": "stdout",
     "output_type": "stream",
     "text": [
      "+-----+--------------------+-------------+-----------+----------+\n",
      "|label|            features|rawPrediction|probability|prediction|\n",
      "+-----+--------------------+-------------+-----------+----------+\n",
      "|  0.0|(692,[95,96,97,12...|   [35.0,0.0]|  [1.0,0.0]|       0.0|\n",
      "|  0.0|(692,[122,123,148...|   [35.0,0.0]|  [1.0,0.0]|       0.0|\n",
      "|  0.0|(692,[123,124,125...|   [35.0,0.0]|  [1.0,0.0]|       0.0|\n",
      "|  0.0|(692,[124,125,126...|   [35.0,0.0]|  [1.0,0.0]|       0.0|\n",
      "|  0.0|(692,[124,125,126...|   [35.0,0.0]|  [1.0,0.0]|       0.0|\n",
      "|  0.0|(692,[124,125,126...|   [35.0,0.0]|  [1.0,0.0]|       0.0|\n",
      "|  0.0|(692,[126,127,128...|   [35.0,0.0]|  [1.0,0.0]|       0.0|\n",
      "|  0.0|(692,[127,128,129...|   [35.0,0.0]|  [1.0,0.0]|       0.0|\n",
      "|  1.0|(692,[123,124,125...|   [0.0,41.0]|  [0.0,1.0]|       1.0|\n",
      "|  1.0|(692,[123,124,125...|   [0.0,41.0]|  [0.0,1.0]|       1.0|\n",
      "|  1.0|(692,[124,125,126...|   [0.0,41.0]|  [0.0,1.0]|       1.0|\n",
      "|  1.0|(692,[125,126,127...|   [0.0,41.0]|  [0.0,1.0]|       1.0|\n",
      "|  1.0|(692,[125,126,153...|   [0.0,41.0]|  [0.0,1.0]|       1.0|\n",
      "|  1.0|(692,[127,128,129...|   [0.0,41.0]|  [0.0,1.0]|       1.0|\n",
      "|  1.0|(692,[128,129,130...|   [0.0,41.0]|  [0.0,1.0]|       1.0|\n",
      "|  1.0|(692,[128,129,130...|   [0.0,41.0]|  [0.0,1.0]|       1.0|\n",
      "|  1.0|(692,[128,129,130...|   [0.0,41.0]|  [0.0,1.0]|       1.0|\n",
      "|  1.0|(692,[129,130,131...|   [0.0,41.0]|  [0.0,1.0]|       1.0|\n",
      "|  1.0|(692,[129,130,131...|   [0.0,41.0]|  [0.0,1.0]|       1.0|\n",
      "|  1.0|(692,[151,152,153...|   [0.0,41.0]|  [0.0,1.0]|       1.0|\n",
      "+-----+--------------------+-------------+-----------+----------+\n",
      "only showing top 20 rows\n",
      "\n"
     ]
    }
   ],
   "source": [
    "dtc_preds.show()"
   ]
  },
  {
   "cell_type": "code",
   "execution_count": 23,
   "id": "e54b6297",
   "metadata": {},
   "outputs": [
    {
     "name": "stdout",
     "output_type": "stream",
     "text": [
      "+-----+--------------------+-------------+-----------+----------+\n",
      "|label|            features|rawPrediction|probability|prediction|\n",
      "+-----+--------------------+-------------+-----------+----------+\n",
      "|  0.0|(692,[95,96,97,12...|   [98.0,2.0]|[0.98,0.02]|       0.0|\n",
      "|  0.0|(692,[122,123,148...|  [82.0,18.0]|[0.82,0.18]|       0.0|\n",
      "|  0.0|(692,[123,124,125...|  [100.0,0.0]|  [1.0,0.0]|       0.0|\n",
      "|  0.0|(692,[124,125,126...|   [98.0,2.0]|[0.98,0.02]|       0.0|\n",
      "|  0.0|(692,[124,125,126...|  [85.0,15.0]|[0.85,0.15]|       0.0|\n",
      "|  0.0|(692,[124,125,126...|   [95.0,5.0]|[0.95,0.05]|       0.0|\n",
      "|  0.0|(692,[126,127,128...|   [99.0,1.0]|[0.99,0.01]|       0.0|\n",
      "|  0.0|(692,[127,128,129...|   [94.0,6.0]|[0.94,0.06]|       0.0|\n",
      "|  1.0|(692,[123,124,125...|  [0.0,100.0]|  [0.0,1.0]|       1.0|\n",
      "|  1.0|(692,[123,124,125...|  [0.0,100.0]|  [0.0,1.0]|       1.0|\n",
      "|  1.0|(692,[124,125,126...|  [0.0,100.0]|  [0.0,1.0]|       1.0|\n",
      "|  1.0|(692,[125,126,127...|  [0.0,100.0]|  [0.0,1.0]|       1.0|\n",
      "|  1.0|(692,[125,126,153...|  [0.0,100.0]|  [0.0,1.0]|       1.0|\n",
      "|  1.0|(692,[127,128,129...|  [0.0,100.0]|  [0.0,1.0]|       1.0|\n",
      "|  1.0|(692,[128,129,130...|   [1.0,99.0]|[0.01,0.99]|       1.0|\n",
      "|  1.0|(692,[128,129,130...|   [5.0,95.0]|[0.05,0.95]|       1.0|\n",
      "|  1.0|(692,[128,129,130...|   [1.0,99.0]|[0.01,0.99]|       1.0|\n",
      "|  1.0|(692,[129,130,131...|   [2.0,98.0]|[0.02,0.98]|       1.0|\n",
      "|  1.0|(692,[129,130,131...|   [3.0,97.0]|[0.03,0.97]|       1.0|\n",
      "|  1.0|(692,[151,152,153...|  [0.0,100.0]|  [0.0,1.0]|       1.0|\n",
      "+-----+--------------------+-------------+-----------+----------+\n",
      "only showing top 20 rows\n",
      "\n"
     ]
    }
   ],
   "source": [
    "rfc_preds.show()"
   ]
  },
  {
   "cell_type": "code",
   "execution_count": 25,
   "id": "d5782ca3",
   "metadata": {},
   "outputs": [
    {
     "name": "stdout",
     "output_type": "stream",
     "text": [
      "+-----+--------------------+--------------------+--------------------+----------+\n",
      "|label|            features|       rawPrediction|         probability|prediction|\n",
      "+-----+--------------------+--------------------+--------------------+----------+\n",
      "|  0.0|(692,[95,96,97,12...|[1.54350200272498...|[0.95635347857270...|       0.0|\n",
      "|  0.0|(692,[122,123,148...|[1.54350200272498...|[0.95635347857270...|       0.0|\n",
      "|  0.0|(692,[123,124,125...|[1.54350200272498...|[0.95635347857270...|       0.0|\n",
      "|  0.0|(692,[124,125,126...|[1.54350200272498...|[0.95635347857270...|       0.0|\n",
      "|  0.0|(692,[124,125,126...|[0.95256924138510...|[0.87047199588301...|       0.0|\n",
      "|  0.0|(692,[124,125,126...|[1.54350200272498...|[0.95635347857270...|       0.0|\n",
      "|  0.0|(692,[126,127,128...|[1.54350200272498...|[0.95635347857270...|       0.0|\n",
      "|  0.0|(692,[127,128,129...|[0.91510992413135...|[0.86178791492802...|       0.0|\n",
      "|  1.0|(692,[123,124,125...|[-1.5435020027249...|[0.04364652142729...|       1.0|\n",
      "|  1.0|(692,[123,124,125...|[-1.5435020027249...|[0.04364652142729...|       1.0|\n",
      "|  1.0|(692,[124,125,126...|[-1.5435020027249...|[0.04364652142729...|       1.0|\n",
      "|  1.0|(692,[125,126,127...|[-1.5435020027249...|[0.04364652142729...|       1.0|\n",
      "|  1.0|(692,[125,126,153...|[-1.5435020027249...|[0.04364652142729...|       1.0|\n",
      "|  1.0|(692,[127,128,129...|[-1.5435020027249...|[0.04364652142729...|       1.0|\n",
      "|  1.0|(692,[128,129,130...|[-1.5435020027249...|[0.04364652142729...|       1.0|\n",
      "|  1.0|(692,[128,129,130...|[-1.5435020027249...|[0.04364652142729...|       1.0|\n",
      "|  1.0|(692,[128,129,130...|[-1.5435020027249...|[0.04364652142729...|       1.0|\n",
      "|  1.0|(692,[129,130,131...|[-1.5435020027249...|[0.04364652142729...|       1.0|\n",
      "|  1.0|(692,[129,130,131...|[-1.5435020027249...|[0.04364652142729...|       1.0|\n",
      "|  1.0|(692,[151,152,153...|[-1.5435020027249...|[0.04364652142729...|       1.0|\n",
      "+-----+--------------------+--------------------+--------------------+----------+\n",
      "only showing top 20 rows\n",
      "\n"
     ]
    }
   ],
   "source": [
    "gbt_preds.show()"
   ]
  },
  {
   "cell_type": "code",
   "execution_count": 26,
   "id": "2aa34672",
   "metadata": {},
   "outputs": [],
   "source": [
    "from pyspark.ml.evaluation import MulticlassClassificationEvaluator"
   ]
  },
  {
   "cell_type": "code",
   "execution_count": 27,
   "id": "fa50cc56",
   "metadata": {},
   "outputs": [],
   "source": [
    "acc_eval = MulticlassClassificationEvaluator(metricName='accuracy')"
   ]
  },
  {
   "cell_type": "code",
   "execution_count": 28,
   "id": "336df252",
   "metadata": {},
   "outputs": [
    {
     "name": "stdout",
     "output_type": "stream",
     "text": [
      "DTC Accuracy:\n"
     ]
    },
    {
     "data": {
      "text/plain": [
       "1.0"
      ]
     },
     "execution_count": 28,
     "metadata": {},
     "output_type": "execute_result"
    }
   ],
   "source": [
    "print ('DTC Accuracy:')\n",
    "acc_eval.evaluate(dtc_preds)"
   ]
  },
  {
   "cell_type": "code",
   "execution_count": 29,
   "id": "88f1313c",
   "metadata": {},
   "outputs": [
    {
     "name": "stdout",
     "output_type": "stream",
     "text": [
      "RFC Accuracy:\n"
     ]
    },
    {
     "data": {
      "text/plain": [
       "1.0"
      ]
     },
     "execution_count": 29,
     "metadata": {},
     "output_type": "execute_result"
    }
   ],
   "source": [
    "print ('RFC Accuracy:')\n",
    "acc_eval.evaluate(rfc_preds)"
   ]
  },
  {
   "cell_type": "code",
   "execution_count": 30,
   "id": "e56db205",
   "metadata": {},
   "outputs": [
    {
     "name": "stdout",
     "output_type": "stream",
     "text": [
      "GBT Accuracy:\n"
     ]
    },
    {
     "data": {
      "text/plain": [
       "1.0"
      ]
     },
     "execution_count": 30,
     "metadata": {},
     "output_type": "execute_result"
    }
   ],
   "source": [
    "print ('GBT Accuracy:')\n",
    "acc_eval.evaluate(gbt_preds)"
   ]
  },
  {
   "cell_type": "code",
   "execution_count": 31,
   "id": "d3e3f36b",
   "metadata": {},
   "outputs": [
    {
     "data": {
      "text/plain": [
       "SparseVector(692, {98: 0.001, 99: 0.0005, 100: 0.0004, 102: 0.0009, 128: 0.0004, 156: 0.0005, 178: 0.0005, 187: 0.0003, 215: 0.0017, 216: 0.0064, 232: 0.0002, 234: 0.0084, 242: 0.0005, 243: 0.0005, 244: 0.0153, 245: 0.0008, 263: 0.009, 264: 0.0018, 268: 0.0017, 270: 0.0004, 271: 0.0061, 272: 0.0041, 275: 0.0017, 289: 0.0158, 290: 0.0022, 291: 0.0085, 296: 0.0008, 300: 0.0066, 301: 0.0169, 314: 0.0019, 316: 0.0031, 318: 0.0033, 321: 0.0004, 322: 0.0067, 323: 0.0005, 327: 0.0018, 328: 0.0152, 329: 0.0057, 345: 0.0165, 346: 0.0063, 347: 0.0005, 350: 0.0005, 351: 0.0369, 352: 0.0008, 355: 0.0005, 356: 0.0203, 357: 0.0014, 369: 0.0004, 370: 0.0003, 373: 0.0078, 377: 0.0241, 378: 0.0307, 379: 0.0094, 380: 0.0005, 381: 0.0014, 382: 0.0016, 383: 0.0003, 384: 0.0018, 386: 0.0011, 387: 0.0031, 400: 0.022, 401: 0.0004, 402: 0.0011, 403: 0.0016, 405: 0.0151, 406: 0.0209, 407: 0.0029, 408: 0.0038, 412: 0.0094, 413: 0.0073, 416: 0.001, 426: 0.002, 427: 0.0027, 428: 0.0007, 429: 0.0108, 431: 0.0006, 433: 0.0388, 434: 0.0579, 435: 0.0016, 436: 0.0005, 438: 0.0011, 440: 0.0378, 441: 0.0129, 442: 0.0013, 443: 0.0027, 454: 0.0003, 455: 0.0191, 456: 0.0137, 457: 0.0017, 461: 0.0455, 462: 0.0348, 463: 0.0074, 465: 0.0019, 468: 0.0174, 469: 0.0014, 470: 0.0006, 471: 0.0005, 481: 0.0018, 482: 0.0013, 483: 0.0111, 487: 0.0018, 489: 0.0518, 490: 0.0111, 491: 0.0006, 496: 0.0159, 497: 0.0102, 510: 0.0009, 511: 0.0356, 512: 0.009, 513: 0.0016, 517: 0.0271, 518: 0.011, 521: 0.0003, 522: 0.0006, 523: 0.001, 538: 0.0035, 539: 0.019, 540: 0.0251, 541: 0.0046, 543: 0.0011, 544: 0.0005, 548: 0.0006, 549: 0.0004, 550: 0.0055, 552: 0.0002, 567: 0.0072, 568: 0.0034, 573: 0.0004, 577: 0.0069, 596: 0.0007, 601: 0.0003, 604: 0.0008, 622: 0.0004, 623: 0.0002, 631: 0.0004, 636: 0.0005, 638: 0.001, 658: 0.0002, 659: 0.0013, 663: 0.0007, 664: 0.0014, 665: 0.0006, 687: 0.0002, 690: 0.0005})"
      ]
     },
     "execution_count": 31,
     "metadata": {},
     "output_type": "execute_result"
    }
   ],
   "source": [
    "rfc_model.featureImportances"
   ]
  },
  {
   "cell_type": "code",
   "execution_count": null,
   "id": "49180843",
   "metadata": {},
   "outputs": [],
   "source": []
  }
 ],
 "metadata": {
  "kernelspec": {
   "display_name": "Python 3 (ipykernel)",
   "language": "python",
   "name": "python3"
  },
  "language_info": {
   "codemirror_mode": {
    "name": "ipython",
    "version": 3
   },
   "file_extension": ".py",
   "mimetype": "text/x-python",
   "name": "python",
   "nbconvert_exporter": "python",
   "pygments_lexer": "ipython3",
   "version": "3.10.6"
  }
 },
 "nbformat": 4,
 "nbformat_minor": 5
}

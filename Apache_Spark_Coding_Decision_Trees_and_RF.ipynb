{
 "cells": [
  {
   "cell_type": "code",
   "execution_count": 1,
   "id": "e21852c5",
   "metadata": {},
   "outputs": [],
   "source": [
    "import findspark\n",
    "findspark.init('/home/danial/spark-3.3.2-bin-hadoop3')"
   ]
  },
  {
   "cell_type": "code",
   "execution_count": 2,
   "id": "757cd01d",
   "metadata": {},
   "outputs": [],
   "source": [
    "from pyspark.sql import SparkSession"
   ]
  },
  {
   "cell_type": "code",
   "execution_count": 3,
   "id": "09bced11",
   "metadata": {},
   "outputs": [],
   "source": [
    "from pyspark.ml import Pipeline\n",
    "from pyspark.ml.classification import (RandomForestClassifier,\n",
    "                                       GBTClassifier,\n",
    "                                       DecisionTreeClassifier)"
   ]
  },
  {
   "cell_type": "code",
   "execution_count": 6,
   "id": "e3168128",
   "metadata": {},
   "outputs": [],
   "source": [
    "spark = SparkSession.builder.appName('trees').getOrCreate()"
   ]
  },
  {
   "cell_type": "code",
   "execution_count": 7,
   "id": "9cd2d7b8",
   "metadata": {},
   "outputs": [],
   "source": [
    "path = '/home/danial/Desktop/myspark/Apache-Spark/Python-and-Spark-for-Big-Data-master/Spark_for_Machine_Learning/Tree_Methods/'"
   ]
  },
  {
   "cell_type": "code",
   "execution_count": 8,
   "id": "e36fdf54",
   "metadata": {
    "scrolled": false
   },
   "outputs": [
    {
     "name": "stdout",
     "output_type": "stream",
     "text": [
      "23/04/10 14:33:41 WARN LibSVMFileFormat: 'numFeatures' option not specified, determining the number of features by going though the input. If you know the number in advance, please specify it via 'numFeatures' option to avoid the extra scan.\n"
     ]
    }
   ],
   "source": [
    "data = spark.read.format('libsvm').load(path + 'sample_libsvm_data.txt')"
   ]
  },
  {
   "cell_type": "code",
   "execution_count": 9,
   "id": "811122c5",
   "metadata": {},
   "outputs": [
    {
     "name": "stdout",
     "output_type": "stream",
     "text": [
      "root\n",
      " |-- label: double (nullable = true)\n",
      " |-- features: vector (nullable = true)\n",
      "\n"
     ]
    }
   ],
   "source": [
    "data.printSchema()"
   ]
  },
  {
   "cell_type": "code",
   "execution_count": 10,
   "id": "fc97154b",
   "metadata": {},
   "outputs": [
    {
     "name": "stdout",
     "output_type": "stream",
     "text": [
      "+-----+--------------------+\n",
      "|label|            features|\n",
      "+-----+--------------------+\n",
      "|  0.0|(692,[127,128,129...|\n",
      "|  1.0|(692,[158,159,160...|\n",
      "|  1.0|(692,[124,125,126...|\n",
      "|  1.0|(692,[152,153,154...|\n",
      "|  1.0|(692,[151,152,153...|\n",
      "|  0.0|(692,[129,130,131...|\n",
      "|  1.0|(692,[158,159,160...|\n",
      "|  1.0|(692,[99,100,101,...|\n",
      "|  0.0|(692,[154,155,156...|\n",
      "|  0.0|(692,[127,128,129...|\n",
      "|  1.0|(692,[154,155,156...|\n",
      "|  0.0|(692,[153,154,155...|\n",
      "|  0.0|(692,[151,152,153...|\n",
      "|  1.0|(692,[129,130,131...|\n",
      "|  0.0|(692,[154,155,156...|\n",
      "|  1.0|(692,[150,151,152...|\n",
      "|  0.0|(692,[124,125,126...|\n",
      "|  0.0|(692,[152,153,154...|\n",
      "|  1.0|(692,[97,98,99,12...|\n",
      "|  1.0|(692,[124,125,126...|\n",
      "+-----+--------------------+\n",
      "only showing top 20 rows\n",
      "\n"
     ]
    }
   ],
   "source": [
    "data.show()"
   ]
  },
  {
   "cell_type": "code",
   "execution_count": 11,
   "id": "690dc0b3",
   "metadata": {},
   "outputs": [],
   "source": [
    "train_data, test_data = data.randomSplit([0.7, 0.3])"
   ]
  },
  {
   "cell_type": "code",
   "execution_count": 12,
   "id": "f21d197d",
   "metadata": {},
   "outputs": [
    {
     "name": "stdout",
     "output_type": "stream",
     "text": [
      "+-------+------------------+\n",
      "|summary|             label|\n",
      "+-------+------------------+\n",
      "|  count|                77|\n",
      "|   mean|0.5454545454545454|\n",
      "| stddev|0.5011947448335864|\n",
      "|    min|               0.0|\n",
      "|    max|               1.0|\n",
      "+-------+------------------+\n",
      "\n"
     ]
    }
   ],
   "source": [
    "train_data.describe().show()"
   ]
  },
  {
   "cell_type": "code",
   "execution_count": 15,
   "id": "b4a2bff5",
   "metadata": {},
   "outputs": [
    {
     "name": "stdout",
     "output_type": "stream",
     "text": [
      "+-------+-------------------+\n",
      "|summary|              label|\n",
      "+-------+-------------------+\n",
      "|  count|                 23|\n",
      "|   mean| 0.6521739130434783|\n",
      "| stddev|0.48698475355767396|\n",
      "|    min|                0.0|\n",
      "|    max|                1.0|\n",
      "+-------+-------------------+\n",
      "\n"
     ]
    }
   ],
   "source": [
    "test_data.describe().show()"
   ]
  },
  {
   "cell_type": "code",
   "execution_count": 16,
   "id": "66c69b0c",
   "metadata": {},
   "outputs": [
    {
     "data": {
      "text/plain": [
       "100"
      ]
     },
     "execution_count": 16,
     "metadata": {},
     "output_type": "execute_result"
    }
   ],
   "source": [
    "data.count()"
   ]
  },
  {
   "cell_type": "code",
   "execution_count": 18,
   "id": "d9e7ddca",
   "metadata": {},
   "outputs": [],
   "source": [
    "dtc = DecisionTreeClassifier()\n",
    "rfc = RandomForestClassifier(numTrees=100)\n",
    "gbt = GBTClassifier()"
   ]
  },
  {
   "cell_type": "code",
   "execution_count": 19,
   "id": "f92ce257",
   "metadata": {},
   "outputs": [
    {
     "name": "stderr",
     "output_type": "stream",
     "text": [
      "                                                                                \r"
     ]
    }
   ],
   "source": [
    "dtc_model = dtc.fit(train_data)\n",
    "rfc_model = rfc.fit(train_data)\n",
    "gbt_model = gbt.fit(train_data)"
   ]
  },
  {
   "cell_type": "code",
   "execution_count": 21,
   "id": "648efbed",
   "metadata": {},
   "outputs": [],
   "source": [
    "dtc_preds = dtc_model.transform(test_data)\n",
    "rfc_preds = rfc_model.transform(test_data)\n",
    "gbt_preds = gbt_model.transform(test_data)"
   ]
  },
  {
   "cell_type": "code",
   "execution_count": 22,
   "id": "43792669",
   "metadata": {},
   "outputs": [
    {
     "name": "stdout",
     "output_type": "stream",
     "text": [
      "+-----+--------------------+-------------+-----------+----------+\n",
      "|label|            features|rawPrediction|probability|prediction|\n",
      "+-----+--------------------+-------------+-----------+----------+\n",
      "|  0.0|(692,[95,96,97,12...|   [35.0,0.0]|  [1.0,0.0]|       0.0|\n",
      "|  0.0|(692,[122,123,148...|   [35.0,0.0]|  [1.0,0.0]|       0.0|\n",
      "|  0.0|(692,[123,124,125...|   [35.0,0.0]|  [1.0,0.0]|       0.0|\n",
      "|  0.0|(692,[124,125,126...|   [35.0,0.0]|  [1.0,0.0]|       0.0|\n",
      "|  0.0|(692,[124,125,126...|   [35.0,0.0]|  [1.0,0.0]|       0.0|\n",
      "|  0.0|(692,[124,125,126...|   [35.0,0.0]|  [1.0,0.0]|       0.0|\n",
      "|  0.0|(692,[126,127,128...|   [35.0,0.0]|  [1.0,0.0]|       0.0|\n",
      "|  0.0|(692,[127,128,129...|   [35.0,0.0]|  [1.0,0.0]|       0.0|\n",
      "|  1.0|(692,[123,124,125...|   [0.0,41.0]|  [0.0,1.0]|       1.0|\n",
      "|  1.0|(692,[123,124,125...|   [0.0,41.0]|  [0.0,1.0]|       1.0|\n",
      "|  1.0|(692,[124,125,126...|   [0.0,41.0]|  [0.0,1.0]|       1.0|\n",
      "|  1.0|(692,[125,126,127...|   [0.0,41.0]|  [0.0,1.0]|       1.0|\n",
      "|  1.0|(692,[125,126,153...|   [0.0,41.0]|  [0.0,1.0]|       1.0|\n",
      "|  1.0|(692,[127,128,129...|   [0.0,41.0]|  [0.0,1.0]|       1.0|\n",
      "|  1.0|(692,[128,129,130...|   [0.0,41.0]|  [0.0,1.0]|       1.0|\n",
      "|  1.0|(692,[128,129,130...|   [0.0,41.0]|  [0.0,1.0]|       1.0|\n",
      "|  1.0|(692,[128,129,130...|   [0.0,41.0]|  [0.0,1.0]|       1.0|\n",
      "|  1.0|(692,[129,130,131...|   [0.0,41.0]|  [0.0,1.0]|       1.0|\n",
      "|  1.0|(692,[129,130,131...|   [0.0,41.0]|  [0.0,1.0]|       1.0|\n",
      "|  1.0|(692,[151,152,153...|   [0.0,41.0]|  [0.0,1.0]|       1.0|\n",
      "+-----+--------------------+-------------+-----------+----------+\n",
      "only showing top 20 rows\n",
      "\n"
     ]
    }
   ],
   "source": [
    "dtc_preds.show()"
   ]
  },
  {
   "cell_type": "code",
   "execution_count": 23,
   "id": "b3a50f21",
   "metadata": {},
   "outputs": [
    {
     "name": "stdout",
     "output_type": "stream",
     "text": [
      "+-----+--------------------+-------------+-----------+----------+\n",
      "|label|            features|rawPrediction|probability|prediction|\n",
      "+-----+--------------------+-------------+-----------+----------+\n",
      "|  0.0|(692,[95,96,97,12...|   [98.0,2.0]|[0.98,0.02]|       0.0|\n",
      "|  0.0|(692,[122,123,148...|  [82.0,18.0]|[0.82,0.18]|       0.0|\n",
      "|  0.0|(692,[123,124,125...|  [100.0,0.0]|  [1.0,0.0]|       0.0|\n",
      "|  0.0|(692,[124,125,126...|   [98.0,2.0]|[0.98,0.02]|       0.0|\n",
      "|  0.0|(692,[124,125,126...|  [85.0,15.0]|[0.85,0.15]|       0.0|\n",
      "|  0.0|(692,[124,125,126...|   [95.0,5.0]|[0.95,0.05]|       0.0|\n",
      "|  0.0|(692,[126,127,128...|   [99.0,1.0]|[0.99,0.01]|       0.0|\n",
      "|  0.0|(692,[127,128,129...|   [94.0,6.0]|[0.94,0.06]|       0.0|\n",
      "|  1.0|(692,[123,124,125...|  [0.0,100.0]|  [0.0,1.0]|       1.0|\n",
      "|  1.0|(692,[123,124,125...|  [0.0,100.0]|  [0.0,1.0]|       1.0|\n",
      "|  1.0|(692,[124,125,126...|  [0.0,100.0]|  [0.0,1.0]|       1.0|\n",
      "|  1.0|(692,[125,126,127...|  [0.0,100.0]|  [0.0,1.0]|       1.0|\n",
      "|  1.0|(692,[125,126,153...|  [0.0,100.0]|  [0.0,1.0]|       1.0|\n",
      "|  1.0|(692,[127,128,129...|  [0.0,100.0]|  [0.0,1.0]|       1.0|\n",
      "|  1.0|(692,[128,129,130...|   [1.0,99.0]|[0.01,0.99]|       1.0|\n",
      "|  1.0|(692,[128,129,130...|   [5.0,95.0]|[0.05,0.95]|       1.0|\n",
      "|  1.0|(692,[128,129,130...|   [1.0,99.0]|[0.01,0.99]|       1.0|\n",
      "|  1.0|(692,[129,130,131...|   [2.0,98.0]|[0.02,0.98]|       1.0|\n",
      "|  1.0|(692,[129,130,131...|   [3.0,97.0]|[0.03,0.97]|       1.0|\n",
      "|  1.0|(692,[151,152,153...|  [0.0,100.0]|  [0.0,1.0]|       1.0|\n",
      "+-----+--------------------+-------------+-----------+----------+\n",
      "only showing top 20 rows\n",
      "\n"
     ]
    }
   ],
   "source": [
    "rfc_preds.show()"
   ]
  },
  {
   "cell_type": "code",
   "execution_count": 25,
   "id": "8c380705",
   "metadata": {},
   "outputs": [
    {
     "name": "stdout",
     "output_type": "stream",
     "text": [
      "+-----+--------------------+--------------------+--------------------+----------+\n",
      "|label|            features|       rawPrediction|         probability|prediction|\n",
      "+-----+--------------------+--------------------+--------------------+----------+\n",
      "|  0.0|(692,[95,96,97,12...|[1.54350200272498...|[0.95635347857270...|       0.0|\n",
      "|  0.0|(692,[122,123,148...|[1.54350200272498...|[0.95635347857270...|       0.0|\n",
      "|  0.0|(692,[123,124,125...|[1.54350200272498...|[0.95635347857270...|       0.0|\n",
      "|  0.0|(692,[124,125,126...|[1.54350200272498...|[0.95635347857270...|       0.0|\n",
      "|  0.0|(692,[124,125,126...|[0.95256924138510...|[0.87047199588301...|       0.0|\n",
      "|  0.0|(692,[124,125,126...|[1.54350200272498...|[0.95635347857270...|       0.0|\n",
      "|  0.0|(692,[126,127,128...|[1.54350200272498...|[0.95635347857270...|       0.0|\n",
      "|  0.0|(692,[127,128,129...|[0.91510992413135...|[0.86178791492802...|       0.0|\n",
      "|  1.0|(692,[123,124,125...|[-1.5435020027249...|[0.04364652142729...|       1.0|\n",
      "|  1.0|(692,[123,124,125...|[-1.5435020027249...|[0.04364652142729...|       1.0|\n",
      "|  1.0|(692,[124,125,126...|[-1.5435020027249...|[0.04364652142729...|       1.0|\n",
      "|  1.0|(692,[125,126,127...|[-1.5435020027249...|[0.04364652142729...|       1.0|\n",
      "|  1.0|(692,[125,126,153...|[-1.5435020027249...|[0.04364652142729...|       1.0|\n",
      "|  1.0|(692,[127,128,129...|[-1.5435020027249...|[0.04364652142729...|       1.0|\n",
      "|  1.0|(692,[128,129,130...|[-1.5435020027249...|[0.04364652142729...|       1.0|\n",
      "|  1.0|(692,[128,129,130...|[-1.5435020027249...|[0.04364652142729...|       1.0|\n",
      "|  1.0|(692,[128,129,130...|[-1.5435020027249...|[0.04364652142729...|       1.0|\n",
      "|  1.0|(692,[129,130,131...|[-1.5435020027249...|[0.04364652142729...|       1.0|\n",
      "|  1.0|(692,[129,130,131...|[-1.5435020027249...|[0.04364652142729...|       1.0|\n",
      "|  1.0|(692,[151,152,153...|[-1.5435020027249...|[0.04364652142729...|       1.0|\n",
      "+-----+--------------------+--------------------+--------------------+----------+\n",
      "only showing top 20 rows\n",
      "\n"
     ]
    }
   ],
   "source": [
    "gbt_preds.show()"
   ]
  },
  {
   "cell_type": "code",
   "execution_count": 26,
   "id": "4810ea64",
   "metadata": {},
   "outputs": [],
   "source": [
    "from pyspark.ml.evaluation import MulticlassClassificationEvaluator"
   ]
  },
  {
   "cell_type": "code",
   "execution_count": 27,
   "id": "a7bd10ba",
   "metadata": {},
   "outputs": [],
   "source": [
    "acc_eval = MulticlassClassificationEvaluator(metricName='accuracy')"
   ]
  },
  {
   "cell_type": "code",
   "execution_count": 28,
   "id": "d30241f9",
   "metadata": {},
   "outputs": [
    {
     "name": "stdout",
     "output_type": "stream",
     "text": [
      "DTC Accuracy:\n"
     ]
    },
    {
     "data": {
      "text/plain": [
       "1.0"
      ]
     },
     "execution_count": 28,
     "metadata": {},
     "output_type": "execute_result"
    }
   ],
   "source": [
    "print ('DTC Accuracy:')\n",
    "acc_eval.evaluate(dtc_preds)"
   ]
  },
  {
   "cell_type": "code",
   "execution_count": 29,
   "id": "6e14a061",
   "metadata": {},
   "outputs": [
    {
     "name": "stdout",
     "output_type": "stream",
     "text": [
      "RFC Accuracy:\n"
     ]
    },
    {
     "data": {
      "text/plain": [
       "1.0"
      ]
     },
     "execution_count": 29,
     "metadata": {},
     "output_type": "execute_result"
    }
   ],
   "source": [
    "print ('RFC Accuracy:')\n",
    "acc_eval.evaluate(rfc_preds)"
   ]
  },
  {
   "cell_type": "code",
   "execution_count": 30,
   "id": "cb30a896",
   "metadata": {},
   "outputs": [
    {
     "name": "stdout",
     "output_type": "stream",
     "text": [
      "GBT Accuracy:\n"
     ]
    },
    {
     "data": {
      "text/plain": [
       "1.0"
      ]
     },
     "execution_count": 30,
     "metadata": {},
     "output_type": "execute_result"
    }
   ],
   "source": [
    "print ('GBT Accuracy:')\n",
    "acc_eval.evaluate(gbt_preds)"
   ]
  },
  {
   "cell_type": "code",
   "execution_count": 31,
   "id": "412b9c9b",
   "metadata": {},
   "outputs": [
    {
     "data": {
      "text/plain": [
       "SparseVector(692, {98: 0.001, 99: 0.0005, 100: 0.0004, 102: 0.0009, 128: 0.0004, 156: 0.0005, 178: 0.0005, 187: 0.0003, 215: 0.0017, 216: 0.0064, 232: 0.0002, 234: 0.0084, 242: 0.0005, 243: 0.0005, 244: 0.0153, 245: 0.0008, 263: 0.009, 264: 0.0018, 268: 0.0017, 270: 0.0004, 271: 0.0061, 272: 0.0041, 275: 0.0017, 289: 0.0158, 290: 0.0022, 291: 0.0085, 296: 0.0008, 300: 0.0066, 301: 0.0169, 314: 0.0019, 316: 0.0031, 318: 0.0033, 321: 0.0004, 322: 0.0067, 323: 0.0005, 327: 0.0018, 328: 0.0152, 329: 0.0057, 345: 0.0165, 346: 0.0063, 347: 0.0005, 350: 0.0005, 351: 0.0369, 352: 0.0008, 355: 0.0005, 356: 0.0203, 357: 0.0014, 369: 0.0004, 370: 0.0003, 373: 0.0078, 377: 0.0241, 378: 0.0307, 379: 0.0094, 380: 0.0005, 381: 0.0014, 382: 0.0016, 383: 0.0003, 384: 0.0018, 386: 0.0011, 387: 0.0031, 400: 0.022, 401: 0.0004, 402: 0.0011, 403: 0.0016, 405: 0.0151, 406: 0.0209, 407: 0.0029, 408: 0.0038, 412: 0.0094, 413: 0.0073, 416: 0.001, 426: 0.002, 427: 0.0027, 428: 0.0007, 429: 0.0108, 431: 0.0006, 433: 0.0388, 434: 0.0579, 435: 0.0016, 436: 0.0005, 438: 0.0011, 440: 0.0378, 441: 0.0129, 442: 0.0013, 443: 0.0027, 454: 0.0003, 455: 0.0191, 456: 0.0137, 457: 0.0017, 461: 0.0455, 462: 0.0348, 463: 0.0074, 465: 0.0019, 468: 0.0174, 469: 0.0014, 470: 0.0006, 471: 0.0005, 481: 0.0018, 482: 0.0013, 483: 0.0111, 487: 0.0018, 489: 0.0518, 490: 0.0111, 491: 0.0006, 496: 0.0159, 497: 0.0102, 510: 0.0009, 511: 0.0356, 512: 0.009, 513: 0.0016, 517: 0.0271, 518: 0.011, 521: 0.0003, 522: 0.0006, 523: 0.001, 538: 0.0035, 539: 0.019, 540: 0.0251, 541: 0.0046, 543: 0.0011, 544: 0.0005, 548: 0.0006, 549: 0.0004, 550: 0.0055, 552: 0.0002, 567: 0.0072, 568: 0.0034, 573: 0.0004, 577: 0.0069, 596: 0.0007, 601: 0.0003, 604: 0.0008, 622: 0.0004, 623: 0.0002, 631: 0.0004, 636: 0.0005, 638: 0.001, 658: 0.0002, 659: 0.0013, 663: 0.0007, 664: 0.0014, 665: 0.0006, 687: 0.0002, 690: 0.0005})"
      ]
     },
     "execution_count": 31,
     "metadata": {},
     "output_type": "execute_result"
    }
   ],
   "source": [
    "rfc_model.featureImportances"
   ]
  },
  {
   "cell_type": "code",
   "execution_count": 32,
   "id": "d6aba53b",
   "metadata": {},
   "outputs": [],
   "source": [
    "# Code along example - university classifier as either private or public"
   ]
  },
  {
   "cell_type": "code",
   "execution_count": 33,
   "id": "8a8eceae",
   "metadata": {},
   "outputs": [],
   "source": [
    "path_to_college_data = path + 'College.csv'"
   ]
  },
  {
   "cell_type": "code",
   "execution_count": 34,
   "id": "c92e16f3",
   "metadata": {},
   "outputs": [
    {
     "data": {
      "text/plain": [
       "'/home/danial/Desktop/myspark/Apache-Spark/Python-and-Spark-for-Big-Data-master/Spark_for_Machine_Learning/Tree_Methods/College.csv'"
      ]
     },
     "execution_count": 34,
     "metadata": {},
     "output_type": "execute_result"
    }
   ],
   "source": [
    "path_to_college_data"
   ]
  },
  {
   "cell_type": "code",
   "execution_count": 35,
   "id": "69078181",
   "metadata": {},
   "outputs": [
    {
     "name": "stdout",
     "output_type": "stream",
     "text": [
      "23/04/10 14:59:11 WARN SparkSession: Using an existing Spark session; only runtime SQL configurations will take effect.\n"
     ]
    }
   ],
   "source": [
    "spark = SparkSession.builder.appName('university').getOrCreate()"
   ]
  },
  {
   "cell_type": "code",
   "execution_count": 36,
   "id": "1e1af808",
   "metadata": {},
   "outputs": [],
   "source": [
    "data = spark.read.csv(path_to_college_data, header=True, inferSchema=True)"
   ]
  },
  {
   "cell_type": "code",
   "execution_count": 37,
   "id": "8426e0b1",
   "metadata": {},
   "outputs": [
    {
     "name": "stdout",
     "output_type": "stream",
     "text": [
      "+--------------------+-------+----+------+------+---------+---------+-----------+-----------+--------+----------+-----+--------+---+--------+---------+-----------+------+---------+\n",
      "|              School|Private|Apps|Accept|Enroll|Top10perc|Top25perc|F_Undergrad|P_Undergrad|Outstate|Room_Board|Books|Personal|PhD|Terminal|S_F_Ratio|perc_alumni|Expend|Grad_Rate|\n",
      "+--------------------+-------+----+------+------+---------+---------+-----------+-----------+--------+----------+-----+--------+---+--------+---------+-----------+------+---------+\n",
      "|Abilene Christian...|    Yes|1660|  1232|   721|       23|       52|       2885|        537|    7440|      3300|  450|    2200| 70|      78|     18.1|         12|  7041|       60|\n",
      "|  Adelphi University|    Yes|2186|  1924|   512|       16|       29|       2683|       1227|   12280|      6450|  750|    1500| 29|      30|     12.2|         16| 10527|       56|\n",
      "|      Adrian College|    Yes|1428|  1097|   336|       22|       50|       1036|         99|   11250|      3750|  400|    1165| 53|      66|     12.9|         30|  8735|       54|\n",
      "| Agnes Scott College|    Yes| 417|   349|   137|       60|       89|        510|         63|   12960|      5450|  450|     875| 92|      97|      7.7|         37| 19016|       59|\n",
      "|Alaska Pacific Un...|    Yes| 193|   146|    55|       16|       44|        249|        869|    7560|      4120|  800|    1500| 76|      72|     11.9|          2| 10922|       15|\n",
      "|   Albertson College|    Yes| 587|   479|   158|       38|       62|        678|         41|   13500|      3335|  500|     675| 67|      73|      9.4|         11|  9727|       55|\n",
      "|Albertus Magnus C...|    Yes| 353|   340|   103|       17|       45|        416|        230|   13290|      5720|  500|    1500| 90|      93|     11.5|         26|  8861|       63|\n",
      "|      Albion College|    Yes|1899|  1720|   489|       37|       68|       1594|         32|   13868|      4826|  450|     850| 89|     100|     13.7|         37| 11487|       73|\n",
      "|    Albright College|    Yes|1038|   839|   227|       30|       63|        973|        306|   15595|      4400|  300|     500| 79|      84|     11.3|         23| 11644|       80|\n",
      "|Alderson-Broaddus...|    Yes| 582|   498|   172|       21|       44|        799|         78|   10468|      3380|  660|    1800| 40|      41|     11.5|         15|  8991|       52|\n",
      "|   Alfred University|    Yes|1732|  1425|   472|       37|       75|       1830|        110|   16548|      5406|  500|     600| 82|      88|     11.3|         31| 10932|       73|\n",
      "|   Allegheny College|    Yes|2652|  1900|   484|       44|       77|       1707|         44|   17080|      4440|  400|     600| 73|      91|      9.9|         41| 11711|       76|\n",
      "|Allentown Coll. o...|    Yes|1179|   780|   290|       38|       64|       1130|        638|    9690|      4785|  600|    1000| 60|      84|     13.3|         21|  7940|       74|\n",
      "|        Alma College|    Yes|1267|  1080|   385|       44|       73|       1306|         28|   12572|      4552|  400|     400| 79|      87|     15.3|         32|  9305|       68|\n",
      "|     Alverno College|    Yes| 494|   313|   157|       23|       46|       1317|       1235|    8352|      3640|  650|    2449| 36|      69|     11.1|         26|  8127|       55|\n",
      "|American Internat...|    Yes|1420|  1093|   220|        9|       22|       1018|        287|    8700|      4780|  450|    1400| 78|      84|     14.7|         19|  7355|       69|\n",
      "|     Amherst College|    Yes|4302|   992|   418|       83|       96|       1593|          5|   19760|      5300|  660|    1598| 93|      98|      8.4|         63| 21424|      100|\n",
      "| Anderson University|    Yes|1216|   908|   423|       19|       40|       1819|        281|   10100|      3520|  550|    1100| 48|      61|     12.1|         14|  7994|       59|\n",
      "|  Andrews University|    Yes|1130|   704|   322|       14|       23|       1586|        326|    9996|      3090|  900|    1320| 62|      66|     11.5|         18| 10908|       46|\n",
      "|Angelo State Univ...|     No|3540|  2001|  1016|       24|       54|       4190|       1512|    5130|      3592|  500|    2000| 60|      62|     23.1|          5|  4010|       34|\n",
      "+--------------------+-------+----+------+------+---------+---------+-----------+-----------+--------+----------+-----+--------+---+--------+---------+-----------+------+---------+\n",
      "only showing top 20 rows\n",
      "\n"
     ]
    }
   ],
   "source": [
    "data.show()"
   ]
  },
  {
   "cell_type": "code",
   "execution_count": 38,
   "id": "f8f992b0",
   "metadata": {},
   "outputs": [
    {
     "name": "stdout",
     "output_type": "stream",
     "text": [
      "root\n",
      " |-- School: string (nullable = true)\n",
      " |-- Private: string (nullable = true)\n",
      " |-- Apps: integer (nullable = true)\n",
      " |-- Accept: integer (nullable = true)\n",
      " |-- Enroll: integer (nullable = true)\n",
      " |-- Top10perc: integer (nullable = true)\n",
      " |-- Top25perc: integer (nullable = true)\n",
      " |-- F_Undergrad: integer (nullable = true)\n",
      " |-- P_Undergrad: integer (nullable = true)\n",
      " |-- Outstate: integer (nullable = true)\n",
      " |-- Room_Board: integer (nullable = true)\n",
      " |-- Books: integer (nullable = true)\n",
      " |-- Personal: integer (nullable = true)\n",
      " |-- PhD: integer (nullable = true)\n",
      " |-- Terminal: integer (nullable = true)\n",
      " |-- S_F_Ratio: double (nullable = true)\n",
      " |-- perc_alumni: integer (nullable = true)\n",
      " |-- Expend: integer (nullable = true)\n",
      " |-- Grad_Rate: integer (nullable = true)\n",
      "\n"
     ]
    }
   ],
   "source": [
    "data.printSchema()"
   ]
  },
  {
   "cell_type": "code",
   "execution_count": 42,
   "id": "8afbb54e",
   "metadata": {},
   "outputs": [
    {
     "data": {
      "text/plain": [
       "[Row(School='Abilene Christian University', Private='Yes', Apps=1660, Accept=1232, Enroll=721, Top10perc=23, Top25perc=52, F_Undergrad=2885, P_Undergrad=537, Outstate=7440, Room_Board=3300, Books=450, Personal=2200, PhD=70, Terminal=78, S_F_Ratio=18.1, perc_alumni=12, Expend=7041, Grad_Rate=60)]"
      ]
     },
     "execution_count": 42,
     "metadata": {},
     "output_type": "execute_result"
    }
   ],
   "source": [
    "data.head(1)"
   ]
  },
  {
   "cell_type": "code",
   "execution_count": 43,
   "id": "00ec89fc",
   "metadata": {},
   "outputs": [
    {
     "data": {
      "text/plain": [
       "777"
      ]
     },
     "execution_count": 43,
     "metadata": {},
     "output_type": "execute_result"
    }
   ],
   "source": [
    "data.count()"
   ]
  },
  {
   "cell_type": "code",
   "execution_count": 44,
   "id": "6570620e",
   "metadata": {},
   "outputs": [],
   "source": [
    "from pyspark.ml.feature import VectorAssembler"
   ]
  },
  {
   "cell_type": "code",
   "execution_count": 45,
   "id": "3758c86b",
   "metadata": {},
   "outputs": [
    {
     "data": {
      "text/plain": [
       "['School',\n",
       " 'Private',\n",
       " 'Apps',\n",
       " 'Accept',\n",
       " 'Enroll',\n",
       " 'Top10perc',\n",
       " 'Top25perc',\n",
       " 'F_Undergrad',\n",
       " 'P_Undergrad',\n",
       " 'Outstate',\n",
       " 'Room_Board',\n",
       " 'Books',\n",
       " 'Personal',\n",
       " 'PhD',\n",
       " 'Terminal',\n",
       " 'S_F_Ratio',\n",
       " 'perc_alumni',\n",
       " 'Expend',\n",
       " 'Grad_Rate']"
      ]
     },
     "execution_count": 45,
     "metadata": {},
     "output_type": "execute_result"
    }
   ],
   "source": [
    "data.columns"
   ]
  },
  {
   "cell_type": "code",
   "execution_count": 46,
   "id": "ea32e79a",
   "metadata": {},
   "outputs": [],
   "source": [
    "assembler = VectorAssembler(inputCols=['Apps',\n",
    "                                     'Accept',\n",
    "                                     'Enroll',\n",
    "                                     'Top10perc',\n",
    "                                     'Top25perc',\n",
    "                                     'F_Undergrad',\n",
    "                                     'P_Undergrad',\n",
    "                                     'Outstate',\n",
    "                                     'Room_Board',\n",
    "                                     'Books',\n",
    "                                     'Personal',\n",
    "                                     'PhD',\n",
    "                                     'Terminal',\n",
    "                                     'S_F_Ratio',\n",
    "                                     'perc_alumni',\n",
    "                                     'Expend',\n",
    "                                     'Grad_Rate'], outputCol='features')"
   ]
  },
  {
   "cell_type": "code",
   "execution_count": 87,
   "id": "f8160d1c",
   "metadata": {},
   "outputs": [],
   "source": [
    "output = assembler.transform(data)"
   ]
  },
  {
   "cell_type": "code",
   "execution_count": 88,
   "id": "3f1e288e",
   "metadata": {},
   "outputs": [],
   "source": [
    "from pyspark.ml.feature import StringIndexer"
   ]
  },
  {
   "cell_type": "code",
   "execution_count": 89,
   "id": "967395cb",
   "metadata": {},
   "outputs": [],
   "source": [
    "indexer = StringIndexer(inputCol='Private', outputCol='PrivateIndex')"
   ]
  },
  {
   "cell_type": "code",
   "execution_count": 90,
   "id": "bd486969",
   "metadata": {},
   "outputs": [],
   "source": [
    "indexed = indexer.fit(output).transform(output)"
   ]
  },
  {
   "cell_type": "code",
   "execution_count": 91,
   "id": "58aad0f4",
   "metadata": {},
   "outputs": [
    {
     "name": "stdout",
     "output_type": "stream",
     "text": [
      "root\n",
      " |-- School: string (nullable = true)\n",
      " |-- Private: string (nullable = true)\n",
      " |-- Apps: integer (nullable = true)\n",
      " |-- Accept: integer (nullable = true)\n",
      " |-- Enroll: integer (nullable = true)\n",
      " |-- Top10perc: integer (nullable = true)\n",
      " |-- Top25perc: integer (nullable = true)\n",
      " |-- F_Undergrad: integer (nullable = true)\n",
      " |-- P_Undergrad: integer (nullable = true)\n",
      " |-- Outstate: integer (nullable = true)\n",
      " |-- Room_Board: integer (nullable = true)\n",
      " |-- Books: integer (nullable = true)\n",
      " |-- Personal: integer (nullable = true)\n",
      " |-- PhD: integer (nullable = true)\n",
      " |-- Terminal: integer (nullable = true)\n",
      " |-- S_F_Ratio: double (nullable = true)\n",
      " |-- perc_alumni: integer (nullable = true)\n",
      " |-- Expend: integer (nullable = true)\n",
      " |-- Grad_Rate: integer (nullable = true)\n",
      " |-- features: vector (nullable = true)\n",
      " |-- PrivateIndex: double (nullable = false)\n",
      "\n"
     ]
    }
   ],
   "source": [
    "indexed.printSchema()"
   ]
  },
  {
   "cell_type": "code",
   "execution_count": 96,
   "id": "dc734440",
   "metadata": {},
   "outputs": [],
   "source": [
    "final_data = indexed.select(['PrivateIndex', 'features'])"
   ]
  },
  {
   "cell_type": "code",
   "execution_count": 97,
   "id": "3efc3fef",
   "metadata": {},
   "outputs": [
    {
     "name": "stdout",
     "output_type": "stream",
     "text": [
      "+------------+--------------------+\n",
      "|PrivateIndex|            features|\n",
      "+------------+--------------------+\n",
      "|         0.0|[1660.0,1232.0,72...|\n",
      "|         0.0|[2186.0,1924.0,51...|\n",
      "|         0.0|[1428.0,1097.0,33...|\n",
      "|         0.0|[417.0,349.0,137....|\n",
      "|         0.0|[193.0,146.0,55.0...|\n",
      "|         0.0|[587.0,479.0,158....|\n",
      "|         0.0|[353.0,340.0,103....|\n",
      "|         0.0|[1899.0,1720.0,48...|\n",
      "|         0.0|[1038.0,839.0,227...|\n",
      "|         0.0|[582.0,498.0,172....|\n",
      "|         0.0|[1732.0,1425.0,47...|\n",
      "|         0.0|[2652.0,1900.0,48...|\n",
      "|         0.0|[1179.0,780.0,290...|\n",
      "|         0.0|[1267.0,1080.0,38...|\n",
      "|         0.0|[494.0,313.0,157....|\n",
      "|         0.0|[1420.0,1093.0,22...|\n",
      "|         0.0|[4302.0,992.0,418...|\n",
      "|         0.0|[1216.0,908.0,423...|\n",
      "|         0.0|[1130.0,704.0,322...|\n",
      "|         1.0|[3540.0,2001.0,10...|\n",
      "+------------+--------------------+\n",
      "only showing top 20 rows\n",
      "\n"
     ]
    }
   ],
   "source": [
    "final_data.show()"
   ]
  },
  {
   "cell_type": "code",
   "execution_count": 62,
   "id": "d75056d2",
   "metadata": {},
   "outputs": [
    {
     "data": {
      "text/plain": [
       "[Row(PrivateIndex=0.0, features=DenseVector([1660.0, 1232.0, 721.0, 23.0, 52.0, 2885.0, 537.0, 7440.0, 3300.0, 450.0, 2200.0, 70.0, 78.0, 18.1, 12.0, 7041.0, 60.0]))]"
      ]
     },
     "execution_count": 62,
     "metadata": {},
     "output_type": "execute_result"
    }
   ],
   "source": [
    "final_data.head(1)"
   ]
  },
  {
   "cell_type": "code",
   "execution_count": 98,
   "id": "a48033d6",
   "metadata": {},
   "outputs": [],
   "source": [
    "train_set, test_set = final_data.randomSplit([0.7, 0.3])"
   ]
  },
  {
   "cell_type": "code",
   "execution_count": 99,
   "id": "7f4a6705",
   "metadata": {},
   "outputs": [],
   "source": [
    "from pyspark.ml.classification import (DecisionTreeClassifier, \n",
    "                                       RandomForestClassifier, \n",
    "                                       GBTClassifier)"
   ]
  },
  {
   "cell_type": "code",
   "execution_count": 100,
   "id": "23c3a9f8",
   "metadata": {},
   "outputs": [],
   "source": [
    "dtc = DecisionTreeClassifier(labelCol='PrivateIndex')\n",
    "rfc = RandomForestClassifier(labelCol='PrivateIndex')\n",
    "gbt = GBTClassifier(labelCol='PrivateIndex')"
   ]
  },
  {
   "cell_type": "code",
   "execution_count": 101,
   "id": "8ba72982",
   "metadata": {},
   "outputs": [],
   "source": [
    "dtc_model = dtc.fit(train_set)\n",
    "rfc_model = rfc.fit(train_set)\n",
    "gbt_model = gbt.fit(train_set)"
   ]
  },
  {
   "cell_type": "code",
   "execution_count": 103,
   "id": "99e8e0b9",
   "metadata": {},
   "outputs": [],
   "source": [
    "dtc_preds = dtc_model.transform(test_set)\n",
    "rfc_preds = rfc_model.transform(test_set)\n",
    "gbt_preds = gbt_model.transform(test_set)"
   ]
  },
  {
   "cell_type": "code",
   "execution_count": 104,
   "id": "e6a9e8a9",
   "metadata": {},
   "outputs": [
    {
     "name": "stdout",
     "output_type": "stream",
     "text": [
      "+------------+--------------------+-------------+-------------+----------+\n",
      "|PrivateIndex|            features|rawPrediction|  probability|prediction|\n",
      "+------------+--------------------+-------------+-------------+----------+\n",
      "|         0.0|[212.0,197.0,91.0...|  [296.0,0.0]|    [1.0,0.0]|       0.0|\n",
      "|         0.0|[213.0,166.0,85.0...|  [296.0,0.0]|    [1.0,0.0]|       0.0|\n",
      "|         0.0|[244.0,198.0,82.0...|  [296.0,0.0]|    [1.0,0.0]|       0.0|\n",
      "|         0.0|[257.0,183.0,109....|   [42.0,6.0]|[0.875,0.125]|       0.0|\n",
      "|         0.0|[263.0,223.0,103....|  [296.0,0.0]|    [1.0,0.0]|       0.0|\n",
      "|         0.0|[292.0,241.0,96.0...|  [296.0,0.0]|    [1.0,0.0]|       0.0|\n",
      "|         0.0|[335.0,284.0,132....|  [296.0,0.0]|    [1.0,0.0]|       0.0|\n",
      "|         0.0|[342.0,254.0,126....|  [296.0,0.0]|    [1.0,0.0]|       0.0|\n",
      "|         0.0|[360.0,329.0,108....|  [296.0,0.0]|    [1.0,0.0]|       0.0|\n",
      "|         0.0|[367.0,274.0,158....|  [296.0,0.0]|    [1.0,0.0]|       0.0|\n",
      "|         0.0|[369.0,312.0,90.0...|  [296.0,0.0]|    [1.0,0.0]|       0.0|\n",
      "|         0.0|[427.0,385.0,143....|  [296.0,0.0]|    [1.0,0.0]|       0.0|\n",
      "|         0.0|[440.0,396.0,221....|  [296.0,0.0]|    [1.0,0.0]|       0.0|\n",
      "|         0.0|[440.0,407.0,149....|  [296.0,0.0]|    [1.0,0.0]|       0.0|\n",
      "|         0.0|[457.0,356.0,177....|  [296.0,0.0]|    [1.0,0.0]|       0.0|\n",
      "|         0.0|[462.0,402.0,146....|  [296.0,0.0]|    [1.0,0.0]|       0.0|\n",
      "|         0.0|[477.0,417.0,204....|  [296.0,0.0]|    [1.0,0.0]|       0.0|\n",
      "|         0.0|[486.0,440.0,227....|  [296.0,0.0]|    [1.0,0.0]|       0.0|\n",
      "|         0.0|[489.0,384.0,120....|  [296.0,0.0]|    [1.0,0.0]|       0.0|\n",
      "|         0.0|[495.0,434.0,210....|  [296.0,0.0]|    [1.0,0.0]|       0.0|\n",
      "+------------+--------------------+-------------+-------------+----------+\n",
      "only showing top 20 rows\n",
      "\n"
     ]
    }
   ],
   "source": [
    "dtc_preds.show()"
   ]
  },
  {
   "cell_type": "code",
   "execution_count": 106,
   "id": "0b55cb78",
   "metadata": {},
   "outputs": [
    {
     "name": "stdout",
     "output_type": "stream",
     "text": [
      "+------------+--------------------+--------------------+--------------------+----------+\n",
      "|PrivateIndex|            features|       rawPrediction|         probability|prediction|\n",
      "+------------+--------------------+--------------------+--------------------+----------+\n",
      "|         0.0|[212.0,197.0,91.0...|[19.8350980992367...|[0.99175490496183...|       0.0|\n",
      "|         0.0|[213.0,166.0,85.0...|[18.8852536862284...|[0.94426268431142...|       0.0|\n",
      "|         0.0|[244.0,198.0,82.0...|[19.8810849764779...|[0.99405424882389...|       0.0|\n",
      "|         0.0|[257.0,183.0,109....|[19.2686286861439...|[0.96343143430719...|       0.0|\n",
      "|         0.0|[263.0,223.0,103....|[18.8852536862284...|[0.94426268431142...|       0.0|\n",
      "|         0.0|[292.0,241.0,96.0...|[19.8645098639426...|[0.99322549319713...|       0.0|\n",
      "|         0.0|[335.0,284.0,132....|[19.8350980992367...|[0.99175490496183...|       0.0|\n",
      "|         0.0|[342.0,254.0,126....|[19.8694118247269...|[0.99347059123634...|       0.0|\n",
      "|         0.0|[360.0,329.0,108....|[17.6980801041838...|[0.88490400520919...|       0.0|\n",
      "|         0.0|[367.0,274.0,158....|[19.5645600975500...|[0.97822800487750...|       0.0|\n",
      "|         0.0|[369.0,312.0,90.0...|[19.6498100780829...|[0.98249050390414...|       0.0|\n",
      "|         0.0|[427.0,385.0,143....|[19.8645098639426...|[0.99322549319713...|       0.0|\n",
      "|         0.0|[440.0,396.0,221....|[19.8645098639426...|[0.99322549319713...|       0.0|\n",
      "|         0.0|[440.0,407.0,149....|[19.8645098639426...|[0.99322549319713...|       0.0|\n",
      "|         0.0|[457.0,356.0,177....|[18.8822118522169...|[0.94411059261084...|       0.0|\n",
      "|         0.0|[462.0,402.0,146....|[19.8350980992367...|[0.99175490496183...|       0.0|\n",
      "|         0.0|[477.0,417.0,204....|[19.6351516255590...|[0.98175758127795...|       0.0|\n",
      "|         0.0|[486.0,440.0,227....|[19.8645098639426...|[0.99322549319713...|       0.0|\n",
      "|         0.0|[489.0,384.0,120....|[19.7495396694376...|[0.98747698347188...|       0.0|\n",
      "|         0.0|[495.0,434.0,210....|[19.8645098639426...|[0.99322549319713...|       0.0|\n",
      "+------------+--------------------+--------------------+--------------------+----------+\n",
      "only showing top 20 rows\n",
      "\n"
     ]
    }
   ],
   "source": [
    "rfc_preds.show()"
   ]
  },
  {
   "cell_type": "code",
   "execution_count": 114,
   "id": "98555f74",
   "metadata": {},
   "outputs": [
    {
     "name": "stdout",
     "output_type": "stream",
     "text": [
      "root\n",
      " |-- PrivateIndex: double (nullable = false)\n",
      " |-- features: vector (nullable = true)\n",
      " |-- rawPrediction: vector (nullable = true)\n",
      " |-- probability: vector (nullable = true)\n",
      " |-- prediction: double (nullable = false)\n",
      "\n"
     ]
    }
   ],
   "source": [
    "gbt_preds.printSchema()"
   ]
  },
  {
   "cell_type": "code",
   "execution_count": 115,
   "id": "c35ff733",
   "metadata": {},
   "outputs": [
    {
     "name": "stdout",
     "output_type": "stream",
     "text": [
      "+------------+--------------------+--------------------+--------------------+----------+\n",
      "|PrivateIndex|            features|       rawPrediction|         probability|prediction|\n",
      "+------------+--------------------+--------------------+--------------------+----------+\n",
      "|         0.0|[212.0,197.0,91.0...|[1.54602463768475...|[0.95656359150486...|       0.0|\n",
      "|         0.0|[213.0,166.0,85.0...|[1.54602463768475...|[0.95656359150486...|       0.0|\n",
      "|         0.0|[244.0,198.0,82.0...|[1.54241362165213...|[0.95626252693697...|       0.0|\n",
      "|         0.0|[257.0,183.0,109....|[1.36734034134045...|[0.93904231932323...|       0.0|\n",
      "|         0.0|[263.0,223.0,103....|[1.56702972404876...|[0.95827600456705...|       0.0|\n",
      "|         0.0|[292.0,241.0,96.0...|[1.54602463768475...|[0.95656359150486...|       0.0|\n",
      "|         0.0|[335.0,284.0,132....|[1.54602463768475...|[0.95656359150486...|       0.0|\n",
      "|         0.0|[342.0,254.0,126....|[1.54602463768475...|[0.95656359150486...|       0.0|\n",
      "|         0.0|[360.0,329.0,108....|[1.63358362386674...|[0.96328511743483...|       0.0|\n",
      "|         0.0|[367.0,274.0,158....|[1.54602463768475...|[0.95656359150486...|       0.0|\n",
      "|         0.0|[369.0,312.0,90.0...|[1.55592398384768...|[0.95737882515019...|       0.0|\n",
      "|         0.0|[427.0,385.0,143....|[1.54602463768475...|[0.95656359150486...|       0.0|\n",
      "|         0.0|[440.0,396.0,221....|[1.54602463768475...|[0.95656359150486...|       0.0|\n",
      "|         0.0|[440.0,407.0,149....|[1.54602463768475...|[0.95656359150486...|       0.0|\n",
      "|         0.0|[457.0,356.0,177....|[1.54602463768475...|[0.95656359150486...|       0.0|\n",
      "|         0.0|[462.0,402.0,146....|[1.54602463768475...|[0.95656359150486...|       0.0|\n",
      "|         0.0|[477.0,417.0,204....|[1.54241362165213...|[0.95626252693697...|       0.0|\n",
      "|         0.0|[486.0,440.0,227....|[1.54602463768475...|[0.95656359150486...|       0.0|\n",
      "|         0.0|[489.0,384.0,120....|[1.54602463768475...|[0.95656359150486...|       0.0|\n",
      "|         0.0|[495.0,434.0,210....|[1.54602463768475...|[0.95656359150486...|       0.0|\n",
      "+------------+--------------------+--------------------+--------------------+----------+\n",
      "only showing top 20 rows\n",
      "\n"
     ]
    }
   ],
   "source": [
    "gbt_preds.show()"
   ]
  },
  {
   "cell_type": "code",
   "execution_count": 74,
   "id": "5e1fc091",
   "metadata": {},
   "outputs": [],
   "source": [
    "from pyspark.ml.evaluation import BinaryClassificationEvaluator"
   ]
  },
  {
   "cell_type": "code",
   "execution_count": 108,
   "id": "c7b15bad",
   "metadata": {},
   "outputs": [],
   "source": [
    "bin_eval = BinaryClassificationEvaluator(labelCol='PrivateIndex')"
   ]
  },
  {
   "cell_type": "code",
   "execution_count": 109,
   "id": "7d3c96ff",
   "metadata": {},
   "outputs": [
    {
     "name": "stdout",
     "output_type": "stream",
     "text": [
      "DTC AUC\n"
     ]
    },
    {
     "data": {
      "text/plain": [
       "0.9175424767910318"
      ]
     },
     "execution_count": 109,
     "metadata": {},
     "output_type": "execute_result"
    }
   ],
   "source": [
    "print ('DTC AUC')\n",
    "bin_eval.evaluate(dtc_preds)"
   ]
  },
  {
   "cell_type": "code",
   "execution_count": 112,
   "id": "95962baf",
   "metadata": {},
   "outputs": [
    {
     "name": "stdout",
     "output_type": "stream",
     "text": [
      "RFC AUC\n"
     ]
    },
    {
     "data": {
      "text/plain": [
       "0.9647486424943077"
      ]
     },
     "execution_count": 112,
     "metadata": {},
     "output_type": "execute_result"
    }
   ],
   "source": [
    "print ('RFC AUC')\n",
    "bin_eval.evaluate(rfc_preds)"
   ]
  },
  {
   "cell_type": "code",
   "execution_count": 113,
   "id": "40f16db5",
   "metadata": {},
   "outputs": [
    {
     "name": "stdout",
     "output_type": "stream",
     "text": [
      "GBT AUC\n"
     ]
    },
    {
     "data": {
      "text/plain": [
       "0.9401383779996496"
      ]
     },
     "execution_count": 113,
     "metadata": {},
     "output_type": "execute_result"
    }
   ],
   "source": [
    "print ('GBT AUC')\n",
    "bin_eval.evaluate(gbt_preds)"
   ]
  },
  {
   "cell_type": "code",
   "execution_count": 116,
   "id": "6a3e52f7",
   "metadata": {},
   "outputs": [],
   "source": [
    "rfc_new = RandomForestClassifier(labelCol='PrivateIndex', numTrees=150)"
   ]
  },
  {
   "cell_type": "code",
   "execution_count": 120,
   "id": "6b75a993",
   "metadata": {},
   "outputs": [],
   "source": [
    "rfc_new_model = rfc_new.fit(train_set)"
   ]
  },
  {
   "cell_type": "code",
   "execution_count": 121,
   "id": "3a0796aa",
   "metadata": {},
   "outputs": [],
   "source": [
    "rfc_new_model_preds = rfc_new_model.transform(test_set)"
   ]
  },
  {
   "cell_type": "code",
   "execution_count": 122,
   "id": "bc7860b6",
   "metadata": {},
   "outputs": [
    {
     "name": "stdout",
     "output_type": "stream",
     "text": [
      "RFC (num of trees = 150) AUC\n"
     ]
    },
    {
     "data": {
      "text/plain": [
       "0.9655806621124543"
      ]
     },
     "execution_count": 122,
     "metadata": {},
     "output_type": "execute_result"
    }
   ],
   "source": [
    "print ('RFC (num of trees = 150) AUC')\n",
    "bin_eval.evaluate(rfc_new_model_preds)"
   ]
  },
  {
   "cell_type": "code",
   "execution_count": 123,
   "id": "2128fd8c",
   "metadata": {},
   "outputs": [],
   "source": [
    "from pyspark.ml.evaluation import MulticlassClassificationEvaluator"
   ]
  },
  {
   "cell_type": "code",
   "execution_count": 124,
   "id": "5ebe3827",
   "metadata": {},
   "outputs": [],
   "source": [
    "acc_eval = MulticlassClassificationEvaluator(labelCol='PrivateIndex', metricName='accuracy')"
   ]
  },
  {
   "cell_type": "code",
   "execution_count": 129,
   "id": "0a241420",
   "metadata": {},
   "outputs": [
    {
     "name": "stdout",
     "output_type": "stream",
     "text": [
      "DTC accuracy: \n"
     ]
    },
    {
     "data": {
      "text/plain": [
       "0.899581589958159"
      ]
     },
     "execution_count": 129,
     "metadata": {},
     "output_type": "execute_result"
    }
   ],
   "source": [
    "print ('DTC accuracy: ')\n",
    "dtc_acc = acc_eval.evaluate(dtc_preds)\n",
    "dtc_acc"
   ]
  },
  {
   "cell_type": "code",
   "execution_count": 130,
   "id": "bad60e4c",
   "metadata": {},
   "outputs": [
    {
     "name": "stdout",
     "output_type": "stream",
     "text": [
      "RFC accuracy: \n"
     ]
    },
    {
     "data": {
      "text/plain": [
       "0.9121338912133892"
      ]
     },
     "execution_count": 130,
     "metadata": {},
     "output_type": "execute_result"
    }
   ],
   "source": [
    "print ('RFC accuracy: ')\n",
    "rfc_acc = acc_eval.evaluate(rfc_preds)\n",
    "rfc_acc"
   ]
  },
  {
   "cell_type": "code",
   "execution_count": 131,
   "id": "5c80cd54",
   "metadata": {},
   "outputs": [
    {
     "name": "stdout",
     "output_type": "stream",
     "text": [
      "GBT accuracy: \n"
     ]
    },
    {
     "data": {
      "text/plain": [
       "0.9079497907949791"
      ]
     },
     "execution_count": 131,
     "metadata": {},
     "output_type": "execute_result"
    }
   ],
   "source": [
    "print ('GBT accuracy: ')\n",
    "gbt_acc = acc_eval.evaluate(gbt_preds)\n",
    "gbt_acc"
   ]
  },
  {
   "cell_type": "code",
   "execution_count": null,
   "id": "8aabbf78",
   "metadata": {},
   "outputs": [],
   "source": []
  }
 ],
 "metadata": {
  "kernelspec": {
   "display_name": "Python 3 (ipykernel)",
   "language": "python",
   "name": "python3"
  },
  "language_info": {
   "codemirror_mode": {
    "name": "ipython",
    "version": 3
   },
   "file_extension": ".py",
   "mimetype": "text/x-python",
   "name": "python",
   "nbconvert_exporter": "python",
   "pygments_lexer": "ipython3",
   "version": "3.10.6"
  }
 },
 "nbformat": 4,
 "nbformat_minor": 5
}

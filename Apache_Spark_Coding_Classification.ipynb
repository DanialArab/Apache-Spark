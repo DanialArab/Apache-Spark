{
 "cells": [
  {
   "cell_type": "markdown",
   "id": "1574f010",
   "metadata": {},
   "source": [
    "# Logistic Regression\n",
    "\n",
    "https://spark.apache.org/docs/latest/ml-classification-regression.html#logistic-regression\n",
    "\n",
    "\n",
    "Evaluators will be a very important part of our pipline when working with Machine Learning:\n",
    "\n",
    "https://spark.apache.org/docs/latest/api/python/reference/api/pyspark.ml.evaluation.BinaryClassificationEvaluator.html#pyspark.ml.evaluation.BinaryClassificationEvaluator.metricName\n",
    "\n",
    "https://spark.apache.org/docs/latest/api/python/reference/api/pyspark.ml.evaluation.MulticlassClassificationEvaluator.html\n"
   ]
  },
  {
   "cell_type": "code",
   "execution_count": 1,
   "id": "0099c8b0",
   "metadata": {},
   "outputs": [],
   "source": [
    "path = '/home/danial/Desktop/myspark/Apache-Spark/Python-and-Spark-for-Big-Data-master/Spark_for_Machine_Learning/Logistic_Regression/sample_libsvm_data.txt'"
   ]
  },
  {
   "cell_type": "code",
   "execution_count": 2,
   "id": "8db12357",
   "metadata": {},
   "outputs": [],
   "source": [
    "import findspark"
   ]
  },
  {
   "cell_type": "code",
   "execution_count": 3,
   "id": "3ec66d1d",
   "metadata": {},
   "outputs": [],
   "source": [
    "findspark.init(\"/home/danial/spark-3.3.2-bin-hadoop3\")"
   ]
  },
  {
   "cell_type": "code",
   "execution_count": 4,
   "id": "e8034cfb",
   "metadata": {},
   "outputs": [],
   "source": [
    "from pyspark.sql import SparkSession"
   ]
  },
  {
   "cell_type": "code",
   "execution_count": 7,
   "id": "d45efd91",
   "metadata": {},
   "outputs": [
    {
     "name": "stdout",
     "output_type": "stream",
     "text": [
      "23/04/04 11:17:00 WARN Utils: Your hostname, danial-VirtualBox resolves to a loopback address: 127.0.1.1; using 10.0.2.15 instead (on interface enp0s3)\n",
      "23/04/04 11:17:00 WARN Utils: Set SPARK_LOCAL_IP if you need to bind to another address\n"
     ]
    },
    {
     "name": "stderr",
     "output_type": "stream",
     "text": [
      "Setting default log level to \"WARN\".\n",
      "To adjust logging level use sc.setLogLevel(newLevel). For SparkR, use setLogLevel(newLevel).\n"
     ]
    },
    {
     "name": "stdout",
     "output_type": "stream",
     "text": [
      "23/04/04 11:17:00 WARN NativeCodeLoader: Unable to load native-hadoop library for your platform... using builtin-java classes where applicable\n",
      "23/04/04 11:17:01 WARN Utils: Service 'SparkUI' could not bind on port 4040. Attempting port 4041.\n"
     ]
    }
   ],
   "source": [
    "spark = SparkSession.builder.appName('logis').getOrCreate()"
   ]
  },
  {
   "cell_type": "code",
   "execution_count": 9,
   "id": "69c70087",
   "metadata": {},
   "outputs": [
    {
     "name": "stdout",
     "output_type": "stream",
     "text": [
      "23/04/04 11:19:29 WARN LibSVMFileFormat: 'numFeatures' option not specified, determining the number of features by going though the input. If you know the number in advance, please specify it via 'numFeatures' option to avoid the extra scan.\n"
     ]
    },
    {
     "name": "stderr",
     "output_type": "stream",
     "text": [
      "\r",
      "[Stage 0:>                                                          (0 + 1) / 1]\r",
      "\r",
      "                                                                                \r"
     ]
    }
   ],
   "source": [
    "data = spark.read.format('libsvm').load(path)"
   ]
  },
  {
   "cell_type": "code",
   "execution_count": 10,
   "id": "d7d1e38f",
   "metadata": {},
   "outputs": [
    {
     "name": "stdout",
     "output_type": "stream",
     "text": [
      "+-----+--------------------+\n",
      "|label|            features|\n",
      "+-----+--------------------+\n",
      "|  0.0|(692,[127,128,129...|\n",
      "|  1.0|(692,[158,159,160...|\n",
      "|  1.0|(692,[124,125,126...|\n",
      "|  1.0|(692,[152,153,154...|\n",
      "|  1.0|(692,[151,152,153...|\n",
      "|  0.0|(692,[129,130,131...|\n",
      "|  1.0|(692,[158,159,160...|\n",
      "|  1.0|(692,[99,100,101,...|\n",
      "|  0.0|(692,[154,155,156...|\n",
      "|  0.0|(692,[127,128,129...|\n",
      "|  1.0|(692,[154,155,156...|\n",
      "|  0.0|(692,[153,154,155...|\n",
      "|  0.0|(692,[151,152,153...|\n",
      "|  1.0|(692,[129,130,131...|\n",
      "|  0.0|(692,[154,155,156...|\n",
      "|  1.0|(692,[150,151,152...|\n",
      "|  0.0|(692,[124,125,126...|\n",
      "|  0.0|(692,[152,153,154...|\n",
      "|  1.0|(692,[97,98,99,12...|\n",
      "|  1.0|(692,[124,125,126...|\n",
      "+-----+--------------------+\n",
      "only showing top 20 rows\n",
      "\n"
     ]
    }
   ],
   "source": [
    "data.show()"
   ]
  },
  {
   "cell_type": "code",
   "execution_count": 11,
   "id": "0674b1e7",
   "metadata": {},
   "outputs": [
    {
     "name": "stdout",
     "output_type": "stream",
     "text": [
      "+-----+\n",
      "|label|\n",
      "+-----+\n",
      "|  0.0|\n",
      "|  1.0|\n",
      "+-----+\n",
      "\n"
     ]
    }
   ],
   "source": [
    "data.select('label').distinct().show()"
   ]
  },
  {
   "cell_type": "code",
   "execution_count": 12,
   "id": "dd50915f",
   "metadata": {},
   "outputs": [],
   "source": [
    "from pyspark.ml.classification import LogisticRegression"
   ]
  },
  {
   "cell_type": "code",
   "execution_count": 15,
   "id": "02dc0927",
   "metadata": {},
   "outputs": [],
   "source": [
    "train_Set, test_set = data.randomSplit([0.7, 0.3])"
   ]
  },
  {
   "cell_type": "code",
   "execution_count": 14,
   "id": "381db26d",
   "metadata": {},
   "outputs": [],
   "source": [
    "lg = LogisticRegression()"
   ]
  },
  {
   "cell_type": "code",
   "execution_count": 16,
   "id": "b8763a80",
   "metadata": {},
   "outputs": [
    {
     "name": "stdout",
     "output_type": "stream",
     "text": [
      "23/04/04 11:24:09 WARN InstanceBuilder$NativeBLAS: Failed to load implementation from:dev.ludovic.netlib.blas.JNIBLAS\n",
      "23/04/04 11:24:09 WARN InstanceBuilder$NativeBLAS: Failed to load implementation from:dev.ludovic.netlib.blas.ForeignLinkerBLAS\n",
      "23/04/04 11:24:10 WARN BLAS: Failed to load implementation from: com.github.fommil.netlib.NativeSystemBLAS\n",
      "23/04/04 11:24:10 WARN BLAS: Failed to load implementation from: com.github.fommil.netlib.NativeRefBLAS\n"
     ]
    }
   ],
   "source": [
    "lg_model = lg.fit(train_Set)"
   ]
  },
  {
   "cell_type": "code",
   "execution_count": 28,
   "id": "dcadd3b1",
   "metadata": {},
   "outputs": [],
   "source": [
    "log_summary = lg_model.summary"
   ]
  },
  {
   "cell_type": "code",
   "execution_count": 31,
   "id": "055b3f22",
   "metadata": {},
   "outputs": [
    {
     "name": "stdout",
     "output_type": "stream",
     "text": [
      "root\n",
      " |-- label: double (nullable = true)\n",
      " |-- features: vector (nullable = true)\n",
      " |-- rawPrediction: vector (nullable = true)\n",
      " |-- probability: vector (nullable = true)\n",
      " |-- prediction: double (nullable = false)\n",
      "\n"
     ]
    }
   ],
   "source": [
    "log_summary.predictions.printSchema()"
   ]
  },
  {
   "cell_type": "code",
   "execution_count": 33,
   "id": "9605f8c8",
   "metadata": {},
   "outputs": [
    {
     "name": "stdout",
     "output_type": "stream",
     "text": [
      "+-----+--------------------+--------------------+--------------------+----------+\n",
      "|label|            features|       rawPrediction|         probability|prediction|\n",
      "+-----+--------------------+--------------------+--------------------+----------+\n",
      "|  0.0|(692,[98,99,100,1...|[25.1513018780422...|[0.99999999998806...|       0.0|\n",
      "|  0.0|(692,[121,122,123...|[26.0753841057895...|[0.99999999999526...|       0.0|\n",
      "|  0.0|(692,[122,123,124...|[20.2151747204161...|[0.99999999833788...|       0.0|\n",
      "|  0.0|(692,[122,123,148...|[22.3056083865609...|[0.99999999979450...|       0.0|\n",
      "|  0.0|(692,[123,124,125...|[24.0462456874123...|[0.99999999996395...|       0.0|\n",
      "|  0.0|(692,[124,125,126...|[33.1079069148920...|[0.99999999999999...|       0.0|\n",
      "|  0.0|(692,[124,125,126...|[34.1141437492309...|[0.99999999999999...|       0.0|\n",
      "|  0.0|(692,[124,125,126...|[36.4386030338422...|[0.99999999999999...|       0.0|\n",
      "|  0.0|(692,[124,125,126...|[22.1688960637801...|[0.99999999976440...|       0.0|\n",
      "|  0.0|(692,[125,126,127...|[29.6063108984909...|[0.99999999999986...|       0.0|\n",
      "|  0.0|(692,[126,127,128...|[32.2947820780320...|[0.99999999999999...|       0.0|\n",
      "|  0.0|(692,[126,127,128...|[20.5614228952192...|[0.99999999882432...|       0.0|\n",
      "|  0.0|(692,[126,127,128...|[22.1463660729811...|[0.99999999975903...|       0.0|\n",
      "|  0.0|(692,[126,127,128...|[26.0020921630802...|[0.99999999999490...|       0.0|\n",
      "|  0.0|(692,[127,128,129...|[20.9660471008558...|[0.99999999921555...|       0.0|\n",
      "|  0.0|(692,[127,128,129...|[26.3809835658767...|[0.99999999999650...|       0.0|\n",
      "|  0.0|(692,[150,151,152...|[21.1975025107053...|[0.99999999937764...|       0.0|\n",
      "|  0.0|(692,[151,152,153...|[33.9776034347491...|[0.99999999999999...|       0.0|\n",
      "|  0.0|(692,[152,153,154...|[21.3279892869869...|[0.99999999945377...|       0.0|\n",
      "|  0.0|(692,[152,153,154...|[33.5378538511090...|[0.99999999999999...|       0.0|\n",
      "+-----+--------------------+--------------------+--------------------+----------+\n",
      "only showing top 20 rows\n",
      "\n"
     ]
    }
   ],
   "source": [
    "log_summary.predictions.show()"
   ]
  },
  {
   "cell_type": "code",
   "execution_count": 34,
   "id": "a115d119",
   "metadata": {},
   "outputs": [],
   "source": [
    "# Evaluating the model "
   ]
  },
  {
   "cell_type": "code",
   "execution_count": 21,
   "id": "56050f8b",
   "metadata": {},
   "outputs": [],
   "source": [
    "predictions_and_labels = lg_model.evaluate(test_set)"
   ]
  },
  {
   "cell_type": "code",
   "execution_count": 22,
   "id": "4466ee5f",
   "metadata": {},
   "outputs": [
    {
     "name": "stdout",
     "output_type": "stream",
     "text": [
      "+-----+--------------------+--------------------+--------------------+----------+\n",
      "|label|            features|       rawPrediction|         probability|prediction|\n",
      "+-----+--------------------+--------------------+--------------------+----------+\n",
      "|  0.0|(692,[95,96,97,12...|[24.4085149772204...|[0.99999999997490...|       0.0|\n",
      "|  0.0|(692,[100,101,102...|[2.22487928435347...|[0.90246153751556...|       0.0|\n",
      "|  0.0|(692,[123,124,125...|[31.8716286857398...|[0.99999999999998...|       0.0|\n",
      "|  0.0|(692,[123,124,125...|[36.1540641835322...|[0.99999999999999...|       0.0|\n",
      "|  0.0|(692,[124,125,126...|[21.0332131007928...|[0.99999999926651...|       0.0|\n",
      "|  0.0|(692,[124,125,126...|[21.9067180479556...|[0.99999999969378...|       0.0|\n",
      "|  0.0|(692,[126,127,128...|[16.3898344184417...|[0.99999992379467...|       0.0|\n",
      "|  0.0|(692,[126,127,128...|[39.9715770068874...|           [1.0,0.0]|       0.0|\n",
      "|  0.0|(692,[126,127,128...|[33.2562823069702...|[0.99999999999999...|       0.0|\n",
      "|  0.0|(692,[126,127,128...|[24.3635123349121...|[0.99999999997375...|       0.0|\n",
      "|  0.0|(692,[127,128,129...|[22.6986054178073...|[0.99999999986128...|       0.0|\n",
      "|  0.0|(692,[128,129,130...|[22.8721837474777...|[0.99999999988338...|       0.0|\n",
      "|  0.0|(692,[129,130,131...|[18.7737414725174...|[0.99999999297465...|       0.0|\n",
      "|  0.0|(692,[152,153,154...|[11.2102670307863...|[0.99998646566225...|       0.0|\n",
      "|  1.0|(692,[97,98,99,12...|[-12.438129797988...|[3.96448831167839...|       1.0|\n",
      "|  1.0|(692,[119,120,121...|[-0.8668611636459...|[0.29590784803016...|       1.0|\n",
      "|  1.0|(692,[123,124,125...|[-22.043616764671...|[2.67041573157718...|       1.0|\n",
      "|  1.0|(692,[124,125,126...|[-23.024789486308...|[1.00106200706218...|       1.0|\n",
      "|  1.0|(692,[125,126,127...|[-19.471578666404...|[3.49623671956100...|       1.0|\n",
      "|  1.0|(692,[126,127,128...|[-21.789174833466...|[3.44414640604879...|       1.0|\n",
      "+-----+--------------------+--------------------+--------------------+----------+\n",
      "only showing top 20 rows\n",
      "\n"
     ]
    }
   ],
   "source": [
    "predictions_and_labels.predictions.show()"
   ]
  },
  {
   "cell_type": "code",
   "execution_count": 23,
   "id": "defdde2a",
   "metadata": {},
   "outputs": [],
   "source": [
    "from pyspark.ml.evaluation import (BinaryClassificationEvaluator,\n",
    "                                    MulticlassClassificationEvaluator)"
   ]
  },
  {
   "cell_type": "code",
   "execution_count": 25,
   "id": "ed05f12e",
   "metadata": {},
   "outputs": [],
   "source": [
    "my_eval = BinaryClassificationEvaluator()"
   ]
  },
  {
   "cell_type": "code",
   "execution_count": 35,
   "id": "2ffaca24",
   "metadata": {},
   "outputs": [],
   "source": [
    "# areaUnderROC:\n",
    "\n",
    "my_final_roc = my_eval.evaluate(predictions_and_labels.predictions)"
   ]
  },
  {
   "cell_type": "code",
   "execution_count": 36,
   "id": "58e71944",
   "metadata": {},
   "outputs": [
    {
     "data": {
      "text/plain": [
       "1.0"
      ]
     },
     "execution_count": 36,
     "metadata": {},
     "output_type": "execute_result"
    }
   ],
   "source": [
    "my_final_roc"
   ]
  },
  {
   "cell_type": "code",
   "execution_count": null,
   "id": "2988f746",
   "metadata": {},
   "outputs": [],
   "source": []
  }
 ],
 "metadata": {
  "kernelspec": {
   "display_name": "Python 3 (ipykernel)",
   "language": "python",
   "name": "python3"
  },
  "language_info": {
   "codemirror_mode": {
    "name": "ipython",
    "version": 3
   },
   "file_extension": ".py",
   "mimetype": "text/x-python",
   "name": "python",
   "nbconvert_exporter": "python",
   "pygments_lexer": "ipython3",
   "version": "3.10.6"
  }
 },
 "nbformat": 4,
 "nbformat_minor": 5
}
